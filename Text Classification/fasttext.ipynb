{
 "cells": [
  {
   "cell_type": "markdown",
   "metadata": {},
   "source": [
    "## 1. 数据清洗\n",
    "数据清洗包括以下几个步骤：\n",
    "+ 类别标签转换为数值标签\n",
    "+ 评论文本去掉标点符号、停用词\n",
    "+ 评论文本分词"
   ]
  },
  {
   "cell_type": "code",
   "execution_count": 1,
   "metadata": {},
   "outputs": [],
   "source": [
    "import pandas as pd\n",
    "import numpy as np\n",
    "import os\n",
    "import matplotlib.pyplot as plt"
   ]
  },
  {
   "cell_type": "code",
   "execution_count": 2,
   "metadata": {},
   "outputs": [
    {
     "data": {
      "text/plain": [
       "(62773, 3)"
      ]
     },
     "execution_count": 2,
     "metadata": {},
     "output_type": "execute_result"
    }
   ],
   "source": [
    "data = pd.read_csv('./data/online_shopping_10_cats.csv')\n",
    "data.dropna(axis=0, inplace=True)\n",
    "data.shape"
   ]
  },
  {
   "cell_type": "code",
   "execution_count": 3,
   "metadata": {},
   "outputs": [],
   "source": [
    "import re\n",
    "\n",
    "def text_clean(line):\n",
    "    line = str(line)\n",
    "    if line == '':\n",
    "        return\n",
    "    rule = re.compile(u\"[^a-zA-Z0-9\\u4E00-\\u9FA5]\")\n",
    "    line = rule.sub('', line)\n",
    "    return line\n",
    "\n",
    "def remove_stopwords():\n",
    "    file = './data/cn_stopwords.txt'\n",
    "    stopwords = [line.strip() for line in open(file, 'r', encoding='utf-8').readlines()]\n",
    "    return stopwords"
   ]
  },
  {
   "cell_type": "code",
   "execution_count": 4,
   "metadata": {},
   "outputs": [
    {
     "name": "stderr",
     "output_type": "stream",
     "text": [
      "Building prefix dict from the default dictionary ...\n",
      "Loading model from cache C:\\Users\\cuda\\AppData\\Local\\Temp\\jieba.cache\n",
      "Loading model cost 0.514 seconds.\n",
      "Prefix dict has been built successfully.\n"
     ]
    },
    {
     "data": {
      "text/html": [
       "<div>\n",
       "<style scoped>\n",
       "    .dataframe tbody tr th:only-of-type {\n",
       "        vertical-align: middle;\n",
       "    }\n",
       "\n",
       "    .dataframe tbody tr th {\n",
       "        vertical-align: top;\n",
       "    }\n",
       "\n",
       "    .dataframe thead th {\n",
       "        text-align: right;\n",
       "    }\n",
       "</style>\n",
       "<table border=\"1\" class=\"dataframe\">\n",
       "  <thead>\n",
       "    <tr style=\"text-align: right;\">\n",
       "      <th></th>\n",
       "      <th>cat</th>\n",
       "      <th>label</th>\n",
       "      <th>review</th>\n",
       "      <th>clean_review</th>\n",
       "      <th>cut_review</th>\n",
       "    </tr>\n",
       "  </thead>\n",
       "  <tbody>\n",
       "    <tr>\n",
       "      <th>41896</th>\n",
       "      <td>衣服</td>\n",
       "      <td>1</td>\n",
       "      <td>还可以 裤子我穿上大小合适 穿上很舒服 样式不错</td>\n",
       "      <td>还可以裤子我穿上大小合适穿上很舒服样式不错</td>\n",
       "      <td>裤子 穿 大小 合适 穿 舒服 样式 不错</td>\n",
       "    </tr>\n",
       "    <tr>\n",
       "      <th>45945</th>\n",
       "      <td>衣服</td>\n",
       "      <td>0</td>\n",
       "      <td>就这衣服卖***你过来 我保证不打死你 一点弹性没有 普通的地摊货 可以说连地摊货都不如 大...</td>\n",
       "      <td>就这衣服卖你过来我保证不打死你一点弹性没有普通的地摊货可以说连地摊货都不如大家别被坑了</td>\n",
       "      <td>衣服 卖 过来 保证 打死 一点 弹性 没有 普通 地摊货 说 地摊货 坑</td>\n",
       "    </tr>\n",
       "    <tr>\n",
       "      <th>23132</th>\n",
       "      <td>水果</td>\n",
       "      <td>0</td>\n",
       "      <td>买了两箱，80mm红富士，但箱内苹果一大一小，颜色也不一致有的苹果只有60mm，有的还有烂痕...</td>\n",
       "      <td>买了两箱80mm红富士但箱内苹果一大一小颜色也不一致有的苹果只有60mm有的还有烂痕不满意希...</td>\n",
       "      <td>买 两箱 80mm 红富士 箱内 苹果 一大 一小 颜色 一致 苹果 60mm 烂痕 满意 ...</td>\n",
       "    </tr>\n",
       "    <tr>\n",
       "      <th>35580</th>\n",
       "      <td>洗发水</td>\n",
       "      <td>0</td>\n",
       "      <td>用了一段时间，头皮痒，起疮。再也不买了。</td>\n",
       "      <td>用了一段时间头皮痒起疮再也不买了</td>\n",
       "      <td>一段时间 头皮 痒 起疮 再也 不买</td>\n",
       "    </tr>\n",
       "    <tr>\n",
       "      <th>56961</th>\n",
       "      <td>酒店</td>\n",
       "      <td>1</td>\n",
       "      <td>住的是豪华单人房,房间很大,但是空调明显不足,冷死了补充点评 2008年1月25日 ： 还有...</td>\n",
       "      <td>住的是豪华单人房房间很大但是空调明显不足冷死了补充点评2008年1月25日还有房间灯光昏暗</td>\n",
       "      <td>住 豪华 单人房 房间 很大 空调 明显 不足 冷死 补充 点评 2008 年 月 25 日...</td>\n",
       "    </tr>\n",
       "    <tr>\n",
       "      <th>30423</th>\n",
       "      <td>洗发水</td>\n",
       "      <td>1</td>\n",
       "      <td>不错 买了很多这个牌子的洗发水 好洗啊不错</td>\n",
       "      <td>不错买了很多这个牌子的洗发水好洗啊不错</td>\n",
       "      <td>不错 买 很多 牌子 洗发水 洗 不错</td>\n",
       "    </tr>\n",
       "    <tr>\n",
       "      <th>56388</th>\n",
       "      <td>酒店</td>\n",
       "      <td>1</td>\n",
       "      <td>感觉还可以，价格也不错！在当地也没有认真去看其他酒店，比较也不大。</td>\n",
       "      <td>感觉还可以价格也不错在当地也没有认真去看其他酒店比较也不大</td>\n",
       "      <td>感觉 价格 不错 没有 认真 酒店 比较 不大</td>\n",
       "    </tr>\n",
       "    <tr>\n",
       "      <th>28803</th>\n",
       "      <td>洗发水</td>\n",
       "      <td>1</td>\n",
       "      <td>大牌子的产品，用用看看到底怎么样</td>\n",
       "      <td>大牌子的产品用用看看到底怎么样</td>\n",
       "      <td>牌子 产品 看看 到底</td>\n",
       "    </tr>\n",
       "    <tr>\n",
       "      <th>56114</th>\n",
       "      <td>酒店</td>\n",
       "      <td>1</td>\n",
       "      <td>房间地理位置不怎么好，比较背，藏起来一样的，后面就是居民楼，没有任何风景。不过房间很新，服务...</td>\n",
       "      <td>房间地理位置不怎么好比较背藏起来一样的后面就是居民楼没有任何风景不过房间很新服务挺好适合长期...</td>\n",
       "      <td>房间 地理位置 不怎么 比较 背藏 起来 后面 居民楼 没有 风景 房间 新 服务 挺 适合...</td>\n",
       "    </tr>\n",
       "    <tr>\n",
       "      <th>8044</th>\n",
       "      <td>平板</td>\n",
       "      <td>1</td>\n",
       "      <td>用了几天来评论的，速度不错，屏幕够清晰，华为的值得使用，而且自我感觉比苹果的要好些，比例合适...</td>\n",
       "      <td>用了几天来评论的速度不错屏幕够清晰华为的值得使用而且自我感觉比苹果的要好些比例合适办公阅读P...</td>\n",
       "      <td>几天 评论 速度 不错 屏幕 够 清晰 华为 值得 使用 自我感觉 苹果 好些 比例 合适 ...</td>\n",
       "    </tr>\n",
       "  </tbody>\n",
       "</table>\n",
       "</div>"
      ],
      "text/plain": [
       "       cat  label                                             review  \\\n",
       "41896   衣服      1                           还可以 裤子我穿上大小合适 穿上很舒服 样式不错   \n",
       "45945   衣服      0  就这衣服卖***你过来 我保证不打死你 一点弹性没有 普通的地摊货 可以说连地摊货都不如 大...   \n",
       "23132   水果      0  买了两箱，80mm红富士，但箱内苹果一大一小，颜色也不一致有的苹果只有60mm，有的还有烂痕...   \n",
       "35580  洗发水      0                               用了一段时间，头皮痒，起疮。再也不买了。   \n",
       "56961   酒店      1  住的是豪华单人房,房间很大,但是空调明显不足,冷死了补充点评 2008年1月25日 ： 还有...   \n",
       "30423  洗发水      1                              不错 买了很多这个牌子的洗发水 好洗啊不错   \n",
       "56388   酒店      1                  感觉还可以，价格也不错！在当地也没有认真去看其他酒店，比较也不大。   \n",
       "28803  洗发水      1                                   大牌子的产品，用用看看到底怎么样   \n",
       "56114   酒店      1  房间地理位置不怎么好，比较背，藏起来一样的，后面就是居民楼，没有任何风景。不过房间很新，服务...   \n",
       "8044    平板      1  用了几天来评论的，速度不错，屏幕够清晰，华为的值得使用，而且自我感觉比苹果的要好些，比例合适...   \n",
       "\n",
       "                                            clean_review  \\\n",
       "41896                              还可以裤子我穿上大小合适穿上很舒服样式不错   \n",
       "45945        就这衣服卖你过来我保证不打死你一点弹性没有普通的地摊货可以说连地摊货都不如大家别被坑了   \n",
       "23132  买了两箱80mm红富士但箱内苹果一大一小颜色也不一致有的苹果只有60mm有的还有烂痕不满意希...   \n",
       "35580                                   用了一段时间头皮痒起疮再也不买了   \n",
       "56961      住的是豪华单人房房间很大但是空调明显不足冷死了补充点评2008年1月25日还有房间灯光昏暗   \n",
       "30423                                不错买了很多这个牌子的洗发水好洗啊不错   \n",
       "56388                      感觉还可以价格也不错在当地也没有认真去看其他酒店比较也不大   \n",
       "28803                                    大牌子的产品用用看看到底怎么样   \n",
       "56114  房间地理位置不怎么好比较背藏起来一样的后面就是居民楼没有任何风景不过房间很新服务挺好适合长期...   \n",
       "8044   用了几天来评论的速度不错屏幕够清晰华为的值得使用而且自我感觉比苹果的要好些比例合适办公阅读P...   \n",
       "\n",
       "                                              cut_review  \n",
       "41896                              裤子 穿 大小 合适 穿 舒服 样式 不错  \n",
       "45945              衣服 卖 过来 保证 打死 一点 弹性 没有 普通 地摊货 说 地摊货 坑  \n",
       "23132  买 两箱 80mm 红富士 箱内 苹果 一大 一小 颜色 一致 苹果 60mm 烂痕 满意 ...  \n",
       "35580                                 一段时间 头皮 痒 起疮 再也 不买  \n",
       "56961  住 豪华 单人房 房间 很大 空调 明显 不足 冷死 补充 点评 2008 年 月 25 日...  \n",
       "30423                                不错 买 很多 牌子 洗发水 洗 不错  \n",
       "56388                            感觉 价格 不错 没有 认真 酒店 比较 不大  \n",
       "28803                                        牌子 产品 看看 到底  \n",
       "56114  房间 地理位置 不怎么 比较 背藏 起来 后面 居民楼 没有 风景 房间 新 服务 挺 适合...  \n",
       "8044   几天 评论 速度 不错 屏幕 够 清晰 华为 值得 使用 自我感觉 苹果 好些 比例 合适 ...  "
      ]
     },
     "execution_count": 4,
     "metadata": {},
     "output_type": "execute_result"
    }
   ],
   "source": [
    "import jieba\n",
    "\n",
    "stopwords = remove_stopwords()\n",
    "data['clean_review'] = data['review'].apply(text_clean)\n",
    "data['cut_review'] = data['clean_review'].apply(lambda line: \" \".join([w for w in jieba.cut(line) if w not in stopwords]))\n",
    "\n",
    "data.sample(10)"
   ]
  },
  {
   "cell_type": "code",
   "execution_count": 5,
   "metadata": {},
   "outputs": [
    {
     "data": {
      "text/html": [
       "<div>\n",
       "<style scoped>\n",
       "    .dataframe tbody tr th:only-of-type {\n",
       "        vertical-align: middle;\n",
       "    }\n",
       "\n",
       "    .dataframe tbody tr th {\n",
       "        vertical-align: top;\n",
       "    }\n",
       "\n",
       "    .dataframe thead th {\n",
       "        text-align: right;\n",
       "    }\n",
       "</style>\n",
       "<table border=\"1\" class=\"dataframe\">\n",
       "  <thead>\n",
       "    <tr style=\"text-align: right;\">\n",
       "      <th></th>\n",
       "      <th>cat</th>\n",
       "      <th>label</th>\n",
       "      <th>review</th>\n",
       "      <th>clean_review</th>\n",
       "      <th>cut_review</th>\n",
       "      <th>cat_id</th>\n",
       "    </tr>\n",
       "  </thead>\n",
       "  <tbody>\n",
       "    <tr>\n",
       "      <th>37453</th>\n",
       "      <td>蒙牛</td>\n",
       "      <td>1</td>\n",
       "      <td>大蒙牛酸酸乳 #还好我们有苏妙玲#</td>\n",
       "      <td>大蒙牛酸酸乳还好我们有苏妙玲</td>\n",
       "      <td>蒙牛 酸酸乳 还好 苏妙玲</td>\n",
       "      <td>6</td>\n",
       "    </tr>\n",
       "    <tr>\n",
       "      <th>36965</th>\n",
       "      <td>蒙牛</td>\n",
       "      <td>1</td>\n",
       "      <td>蒙牛高管撤出蒙牛后做的，最近很低调的火了！</td>\n",
       "      <td>蒙牛高管撤出蒙牛后做的最近很低调的火了</td>\n",
       "      <td>蒙牛 高管 撤出 蒙牛 做 最近 低调 火</td>\n",
       "      <td>6</td>\n",
       "    </tr>\n",
       "    <tr>\n",
       "      <th>7573</th>\n",
       "      <td>平板</td>\n",
       "      <td>1</td>\n",
       "      <td>宝贝很好，老爸很喜欢，速度快，看视频清晰，玩游戏不卡，手机不热！！真的超级超值！！！</td>\n",
       "      <td>宝贝很好老爸很喜欢速度快看视频清晰玩游戏不卡手机不热真的超级超值</td>\n",
       "      <td>宝贝 老爸 喜欢 速度 快 视频 清晰 玩游戏 不卡 手机 不热 真的 超级 超值</td>\n",
       "      <td>1</td>\n",
       "    </tr>\n",
       "    <tr>\n",
       "      <th>24998</th>\n",
       "      <td>水果</td>\n",
       "      <td>0</td>\n",
       "      <td>这次买的苹果又有烂的，真的越来越不给力了</td>\n",
       "      <td>这次买的苹果又有烂的真的越来越不给力了</td>\n",
       "      <td>买 苹果 烂 真的 越来越 不给力</td>\n",
       "      <td>3</td>\n",
       "    </tr>\n",
       "    <tr>\n",
       "      <th>12435</th>\n",
       "      <td>平板</td>\n",
       "      <td>0</td>\n",
       "      <td>退，搞笑，你搞笑早上我下单的时候你怎么不说，这单你别买了，买了还要退</td>\n",
       "      <td>退搞笑你搞笑早上我下单的时候你怎么不说这单你别买了买了还要退</td>\n",
       "      <td>退 搞笑 搞笑 早上 下单 不说 这单 买 买 退</td>\n",
       "      <td>1</td>\n",
       "    </tr>\n",
       "    <tr>\n",
       "      <th>10893</th>\n",
       "      <td>平板</td>\n",
       "      <td>0</td>\n",
       "      <td>明明买的是全网通，收到的却是移动全网通，找客服，居然推来推去，要么就不理，两者价格可是有差异...</td>\n",
       "      <td>明明买的是全网通收到的却是移动全网通找客服居然推来推去要么就不理两者价格可是有差异的京东欺骗...</td>\n",
       "      <td>明明 买 全 网通 收到 却是 移动 全 网通 找 客服 居然 推来推去 不理 价格 差异 ...</td>\n",
       "      <td>1</td>\n",
       "    </tr>\n",
       "    <tr>\n",
       "      <th>7665</th>\n",
       "      <td>平板</td>\n",
       "      <td>1</td>\n",
       "      <td>送货速度快，平板反应快，还带护眼功能</td>\n",
       "      <td>送货速度快平板反应快还带护眼功能</td>\n",
       "      <td>送货 速度 快 平板 反应 快 带 护眼 功能</td>\n",
       "      <td>1</td>\n",
       "    </tr>\n",
       "    <tr>\n",
       "      <th>57729</th>\n",
       "      <td>酒店</td>\n",
       "      <td>1</td>\n",
       "      <td>4月30日入住会所房，大概经过多次博螯论坛的磨练，酒店终于达到了超五星的标准。房间硬件没的说...</td>\n",
       "      <td>4月30日入住会所房大概经过多次博螯论坛的磨练酒店终于达到了超五星的标准房间硬件没的说超级大...</td>\n",
       "      <td>月 30 日 入住 会所房 大概 多次 博螯 论坛 磨练 酒店 终于 达到 超 五星 标准 ...</td>\n",
       "      <td>9</td>\n",
       "    </tr>\n",
       "    <tr>\n",
       "      <th>57820</th>\n",
       "      <td>酒店</td>\n",
       "      <td>0</td>\n",
       "      <td>其他都不错，就是隔音太差，几乎相当于没间隔。隔壁住的是小情侣，闹腾一晚上，害的我一晚上没睡好</td>\n",
       "      <td>其他都不错就是隔音太差几乎相当于没间隔隔壁住的是小情侣闹腾一晚上害的我一晚上没睡好</td>\n",
       "      <td>不错 隔音 太 差 几乎 相当于 没 间隔 隔壁 住 情侣 闹腾 晚上 害 晚上 没睡</td>\n",
       "      <td>9</td>\n",
       "    </tr>\n",
       "    <tr>\n",
       "      <th>33751</th>\n",
       "      <td>洗发水</td>\n",
       "      <td>0</td>\n",
       "      <td>京东自营这款99元的清扬洗发水是假货。经仔细比对后，发现和正规超市的不一样，大家谨慎购买。</td>\n",
       "      <td>京东自营这款99元的清扬洗发水是假货经仔细比对后发现和正规超市的不一样大家谨慎购买</td>\n",
       "      <td>京东 自营 这款 99 元 清扬 洗发水 假货 仔细 发现 正规 超市 谨慎 购买</td>\n",
       "      <td>4</td>\n",
       "    </tr>\n",
       "  </tbody>\n",
       "</table>\n",
       "</div>"
      ],
      "text/plain": [
       "       cat  label                                             review  \\\n",
       "37453   蒙牛      1                                  大蒙牛酸酸乳 #还好我们有苏妙玲#   \n",
       "36965   蒙牛      1                              蒙牛高管撤出蒙牛后做的，最近很低调的火了！   \n",
       "7573    平板      1         宝贝很好，老爸很喜欢，速度快，看视频清晰，玩游戏不卡，手机不热！！真的超级超值！！！   \n",
       "24998   水果      0                               这次买的苹果又有烂的，真的越来越不给力了   \n",
       "12435   平板      0                 退，搞笑，你搞笑早上我下单的时候你怎么不说，这单你别买了，买了还要退   \n",
       "10893   平板      0  明明买的是全网通，收到的却是移动全网通，找客服，居然推来推去，要么就不理，两者价格可是有差异...   \n",
       "7665    平板      1                                 送货速度快，平板反应快，还带护眼功能   \n",
       "57729   酒店      1  4月30日入住会所房，大概经过多次博螯论坛的磨练，酒店终于达到了超五星的标准。房间硬件没的说...   \n",
       "57820   酒店      0     其他都不错，就是隔音太差，几乎相当于没间隔。隔壁住的是小情侣，闹腾一晚上，害的我一晚上没睡好   \n",
       "33751  洗发水      0      京东自营这款99元的清扬洗发水是假货。经仔细比对后，发现和正规超市的不一样，大家谨慎购买。   \n",
       "\n",
       "                                            clean_review  \\\n",
       "37453                                     大蒙牛酸酸乳还好我们有苏妙玲   \n",
       "36965                                蒙牛高管撤出蒙牛后做的最近很低调的火了   \n",
       "7573                    宝贝很好老爸很喜欢速度快看视频清晰玩游戏不卡手机不热真的超级超值   \n",
       "24998                                这次买的苹果又有烂的真的越来越不给力了   \n",
       "12435                     退搞笑你搞笑早上我下单的时候你怎么不说这单你别买了买了还要退   \n",
       "10893  明明买的是全网通收到的却是移动全网通找客服居然推来推去要么就不理两者价格可是有差异的京东欺骗...   \n",
       "7665                                    送货速度快平板反应快还带护眼功能   \n",
       "57729  4月30日入住会所房大概经过多次博螯论坛的磨练酒店终于达到了超五星的标准房间硬件没的说超级大...   \n",
       "57820          其他都不错就是隔音太差几乎相当于没间隔隔壁住的是小情侣闹腾一晚上害的我一晚上没睡好   \n",
       "33751          京东自营这款99元的清扬洗发水是假货经仔细比对后发现和正规超市的不一样大家谨慎购买   \n",
       "\n",
       "                                              cut_review  cat_id  \n",
       "37453                                      蒙牛 酸酸乳 还好 苏妙玲       6  \n",
       "36965                              蒙牛 高管 撤出 蒙牛 做 最近 低调 火       6  \n",
       "7573           宝贝 老爸 喜欢 速度 快 视频 清晰 玩游戏 不卡 手机 不热 真的 超级 超值       1  \n",
       "24998                                  买 苹果 烂 真的 越来越 不给力       3  \n",
       "12435                          退 搞笑 搞笑 早上 下单 不说 这单 买 买 退       1  \n",
       "10893  明明 买 全 网通 收到 却是 移动 全 网通 找 客服 居然 推来推去 不理 价格 差异 ...       1  \n",
       "7665                             送货 速度 快 平板 反应 快 带 护眼 功能       1  \n",
       "57729  月 30 日 入住 会所房 大概 多次 博螯 论坛 磨练 酒店 终于 达到 超 五星 标准 ...       9  \n",
       "57820        不错 隔音 太 差 几乎 相当于 没 间隔 隔壁 住 情侣 闹腾 晚上 害 晚上 没睡       9  \n",
       "33751          京东 自营 这款 99 元 清扬 洗发水 假货 仔细 发现 正规 超市 谨慎 购买       4  "
      ]
     },
     "execution_count": 5,
     "metadata": {},
     "output_type": "execute_result"
    }
   ],
   "source": [
    "cat_id_tuple = data['cat'].factorize()\n",
    "data['cat_id'] = cat_id_tuple[0]\n",
    "data.sample(10)"
   ]
  },
  {
   "cell_type": "markdown",
   "metadata": {},
   "source": [
    "## 2. 数据准备\n",
    "\n",
    "包括以下几个步骤：\n",
    "1. 将原始数据集划分为测试集（70%）、验证集（20%）、测试集（10%）\n",
    "2. 将划分后的数据保存为fasttext模型可读取的.txt格式"
   ]
  },
  {
   "cell_type": "code",
   "execution_count": 6,
   "metadata": {},
   "outputs": [
    {
     "name": "stdout",
     "output_type": "stream",
     "text": [
      "(45196, 6)\n",
      "(11299, 6)\n",
      "(6278, 6)\n"
     ]
    }
   ],
   "source": [
    "from sklearn.model_selection import train_test_split as tts\n",
    "\n",
    "train_data, test_data = tts(data, test_size=0.1)\n",
    "train_data, valid_data = tts(train_data, test_size=0.2)\n",
    "print(train_data.shape)\n",
    "print(valid_data.shape)\n",
    "print(test_data.shape)"
   ]
  },
  {
   "cell_type": "code",
   "execution_count": 7,
   "metadata": {},
   "outputs": [
    {
     "name": "stdout",
     "output_type": "stream",
     "text": [
      "complete\n"
     ]
    }
   ],
   "source": [
    "def text_prepare(path, name, data):\n",
    "    file = os.path.join(path, name)\n",
    "    with open(file, 'w', encoding='utf-8') as f:\n",
    "        for i in range(len(data)):\n",
    "            cat = '__label__' + str(data.iloc[i]['cat_id']) + ' , '\n",
    "            review = str(data.iloc[i]['cut_review'])\n",
    "            # 每写入一行后换行\n",
    "            f.write(cat+review+'\\n')\n",
    "\n",
    "path = './data'\n",
    "train_txt = 'train_data.txt'\n",
    "valid_txt = 'valid_data.txt'\n",
    "test_txt = 'test_data.txt'\n",
    "text_prepare(path, train_txt, train_data)\n",
    "text_prepare(path, valid_txt, valid_data)\n",
    "text_prepare(path, test_txt, test_data)\n",
    "print('complete')"
   ]
  },
  {
   "cell_type": "markdown",
   "metadata": {},
   "source": [
    "## 3. 模型构建\n",
    "\n",
    "构建模型，对数据集进行训练和验证并记录运行时间"
   ]
  },
  {
   "cell_type": "code",
   "execution_count": 8,
   "metadata": {},
   "outputs": [],
   "source": [
    "import fasttext.FastText as ft\n",
    "from time import time"
   ]
  },
  {
   "cell_type": "code",
   "execution_count": 9,
   "metadata": {},
   "outputs": [
    {
     "name": "stdout",
     "output_type": "stream",
     "text": [
      "Processing time:  0.6083190441131592\n",
      "(11299, 0.8868926453668466, 0.8868926453668466)\n"
     ]
    }
   ],
   "source": [
    "t0 = time()\n",
    "model = ft.train_supervised('./data/train_data.txt', loss='softmax')\n",
    "print('Processing time: ', time()-t0)\n",
    "print(model.test('./data/valid_data.txt'))"
   ]
  },
  {
   "cell_type": "code",
   "execution_count": 10,
   "metadata": {},
   "outputs": [],
   "source": [
    "model.save_model('./models/ft_shopping.model')"
   ]
  }
 ],
 "metadata": {
  "kernelspec": {
   "display_name": "Python 3",
   "language": "python",
   "name": "python3"
  },
  "language_info": {
   "codemirror_mode": {
    "name": "ipython",
    "version": 3
   },
   "file_extension": ".py",
   "mimetype": "text/x-python",
   "name": "python",
   "nbconvert_exporter": "python",
   "pygments_lexer": "ipython3",
   "version": "3.6.4"
  }
 },
 "nbformat": 4,
 "nbformat_minor": 4
}
