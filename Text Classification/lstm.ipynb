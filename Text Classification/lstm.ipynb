{
 "cells": [
  {
   "cell_type": "markdown",
   "metadata": {},
   "source": [
    "## 1. 数据说明\n",
    "\n",
    "+ 数据概览：10 个类别（书籍、平板、手机、水果、洗发水、热水器、蒙牛、衣服、计算机、酒店），共 6 万多条评论数据，正、负向评论各约 3 万条\n",
    "+ 推荐实验：情感/观点/评论 倾向性分析\n",
    "+ 数据来源：各电商平台，具体不详\n",
    "+ 加工处理：将2份语料整合成1份语料、将原来零散的 excel, txt文档，整合成1个统一的csv文档、去重"
   ]
  },
  {
   "cell_type": "code",
   "execution_count": 1,
   "metadata": {},
   "outputs": [],
   "source": [
    "import numpy as np\n",
    "import pandas as pd\n",
    "import os\n",
    "import matplotlib.pyplot as plt"
   ]
  },
  {
   "cell_type": "code",
   "execution_count": 2,
   "metadata": {},
   "outputs": [
    {
     "data": {
      "text/plain": [
       "(62773, 3)"
      ]
     },
     "execution_count": 2,
     "metadata": {},
     "output_type": "execute_result"
    }
   ],
   "source": [
    "file = './data/online_shopping_10_cats.csv'\n",
    "data = pd.read_csv(file)\n",
    "data = data.dropna(axis=0)\n",
    "data.shape"
   ]
  },
  {
   "cell_type": "markdown",
   "metadata": {},
   "source": [
    "### 1.1 数据概览\n",
    "\n",
    "| 字段 | 说明 |\n",
    "| ---- | ---- |\n",
    "| cat | 类别 |\n",
    "| label | 1 表示正向评论，0 表示负向评论 |\n",
    "| review | 评论内容 |"
   ]
  },
  {
   "cell_type": "code",
   "execution_count": 3,
   "metadata": {},
   "outputs": [
    {
     "data": {
      "text/html": [
       "<div>\n",
       "<style scoped>\n",
       "    .dataframe tbody tr th:only-of-type {\n",
       "        vertical-align: middle;\n",
       "    }\n",
       "\n",
       "    .dataframe tbody tr th {\n",
       "        vertical-align: top;\n",
       "    }\n",
       "\n",
       "    .dataframe thead th {\n",
       "        text-align: right;\n",
       "    }\n",
       "</style>\n",
       "<table border=\"1\" class=\"dataframe\">\n",
       "  <thead>\n",
       "    <tr style=\"text-align: right;\">\n",
       "      <th></th>\n",
       "      <th>cat</th>\n",
       "      <th>label</th>\n",
       "      <th>review</th>\n",
       "    </tr>\n",
       "  </thead>\n",
       "  <tbody>\n",
       "    <tr>\n",
       "      <th>0</th>\n",
       "      <td>书籍</td>\n",
       "      <td>1</td>\n",
       "      <td>﻿做父母一定要有刘墉这样的心态，不断地学习，不断地进步，不断地给自己补充新鲜血液，让自己保持...</td>\n",
       "    </tr>\n",
       "    <tr>\n",
       "      <th>1</th>\n",
       "      <td>书籍</td>\n",
       "      <td>1</td>\n",
       "      <td>作者真有英国人严谨的风格，提出观点、进行论述论证，尽管本人对物理学了解不深，但是仍然能感受到...</td>\n",
       "    </tr>\n",
       "    <tr>\n",
       "      <th>2</th>\n",
       "      <td>书籍</td>\n",
       "      <td>1</td>\n",
       "      <td>作者长篇大论借用详细报告数据处理工作和计算结果支持其新观点。为什么荷兰曾经县有欧洲最高的生产...</td>\n",
       "    </tr>\n",
       "    <tr>\n",
       "      <th>3</th>\n",
       "      <td>书籍</td>\n",
       "      <td>1</td>\n",
       "      <td>作者在战几时之前用了＂拥抱＂令人叫绝．日本如果没有战败，就有会有美军的占领，没胡官僚主义的延...</td>\n",
       "    </tr>\n",
       "    <tr>\n",
       "      <th>4</th>\n",
       "      <td>书籍</td>\n",
       "      <td>1</td>\n",
       "      <td>作者在少年时即喜阅读，能看出他精读了无数经典，因而他有一个庞大的内心世界。他的作品最难能可贵...</td>\n",
       "    </tr>\n",
       "    <tr>\n",
       "      <th>62769</th>\n",
       "      <td>酒店</td>\n",
       "      <td>0</td>\n",
       "      <td>我们去盐城的时候那里的最低气温只有4度，晚上冷得要死，居然还不开空调，投诉到酒店客房部，得到...</td>\n",
       "    </tr>\n",
       "    <tr>\n",
       "      <th>62770</th>\n",
       "      <td>酒店</td>\n",
       "      <td>0</td>\n",
       "      <td>房间很小，整体设施老化，和四星的差距很大。毛巾太破旧了。早餐很简陋。房间隔音很差，隔两间房间...</td>\n",
       "    </tr>\n",
       "    <tr>\n",
       "      <th>62771</th>\n",
       "      <td>酒店</td>\n",
       "      <td>0</td>\n",
       "      <td>我感觉不行。。。性价比很差。不知道是银川都这样还是怎么的！</td>\n",
       "    </tr>\n",
       "    <tr>\n",
       "      <th>62772</th>\n",
       "      <td>酒店</td>\n",
       "      <td>0</td>\n",
       "      <td>房间时间长，进去有点异味！服务员是不是不够用啊！我在一楼找了半个小时以上才找到自己房间，想找...</td>\n",
       "    </tr>\n",
       "    <tr>\n",
       "      <th>62773</th>\n",
       "      <td>酒店</td>\n",
       "      <td>0</td>\n",
       "      <td>老人小孩一大家族聚会，选在吴宫泛太平洋，以为新加坡品牌一定很不错，没想到11点30分到前台，...</td>\n",
       "    </tr>\n",
       "  </tbody>\n",
       "</table>\n",
       "</div>"
      ],
      "text/plain": [
       "      cat  label                                             review\n",
       "0      书籍      1  ﻿做父母一定要有刘墉这样的心态，不断地学习，不断地进步，不断地给自己补充新鲜血液，让自己保持...\n",
       "1      书籍      1  作者真有英国人严谨的风格，提出观点、进行论述论证，尽管本人对物理学了解不深，但是仍然能感受到...\n",
       "2      书籍      1  作者长篇大论借用详细报告数据处理工作和计算结果支持其新观点。为什么荷兰曾经县有欧洲最高的生产...\n",
       "3      书籍      1  作者在战几时之前用了＂拥抱＂令人叫绝．日本如果没有战败，就有会有美军的占领，没胡官僚主义的延...\n",
       "4      书籍      1  作者在少年时即喜阅读，能看出他精读了无数经典，因而他有一个庞大的内心世界。他的作品最难能可贵...\n",
       "62769  酒店      0  我们去盐城的时候那里的最低气温只有4度，晚上冷得要死，居然还不开空调，投诉到酒店客房部，得到...\n",
       "62770  酒店      0  房间很小，整体设施老化，和四星的差距很大。毛巾太破旧了。早餐很简陋。房间隔音很差，隔两间房间...\n",
       "62771  酒店      0                      我感觉不行。。。性价比很差。不知道是银川都这样还是怎么的！\n",
       "62772  酒店      0  房间时间长，进去有点异味！服务员是不是不够用啊！我在一楼找了半个小时以上才找到自己房间，想找...\n",
       "62773  酒店      0  老人小孩一大家族聚会，选在吴宫泛太平洋，以为新加坡品牌一定很不错，没想到11点30分到前台，..."
      ]
     },
     "execution_count": 3,
     "metadata": {},
     "output_type": "execute_result"
    }
   ],
   "source": [
    "pd.concat((data.head(5), data.tail(5)), axis=0)"
   ]
  },
  {
   "cell_type": "markdown",
   "metadata": {},
   "source": [
    "#### (1) 评论统计"
   ]
  },
  {
   "cell_type": "code",
   "execution_count": 4,
   "metadata": {},
   "outputs": [
    {
     "name": "stdout",
     "output_type": "stream",
     "text": [
      "样本总数:  62773\n",
      "正面评价:  31727\n",
      "负面评价:  31046\n"
     ]
    }
   ],
   "source": [
    "print('样本总数: ', len(data))\n",
    "print('正面评价: ', len(data[data.label==1]))\n",
    "print('负面评价: ', len(data[data.label==0]))"
   ]
  },
  {
   "cell_type": "markdown",
   "metadata": {},
   "source": [
    "#### (2) 标签统计"
   ]
  },
  {
   "cell_type": "code",
   "execution_count": 5,
   "metadata": {},
   "outputs": [
    {
     "data": {
      "text/plain": [
       "Index(['水果', '平板', '酒店', '洗发水', '衣服', '计算机', '书籍', '手机', '蒙牛', '热水器'], dtype='object')"
      ]
     },
     "metadata": {},
     "output_type": "display_data"
    },
    {
     "data": {
      "text/plain": [
       "水果     10000\n",
       "平板     10000\n",
       "酒店     10000\n",
       "洗发水    10000\n",
       "衣服     10000\n",
       "计算机     3992\n",
       "书籍      3851\n",
       "手机      2323\n",
       "蒙牛      2033\n",
       "热水器      574\n",
       "Name: cat, dtype: int64"
      ]
     },
     "execution_count": 5,
     "metadata": {},
     "output_type": "execute_result"
    }
   ],
   "source": [
    "cats = data['cat'].value_counts().index\n",
    "display(cats)\n",
    "data['cat'].value_counts()"
   ]
  },
  {
   "cell_type": "markdown",
   "metadata": {},
   "source": [
    "### 1.2 查看各类别语料的规模"
   ]
  },
  {
   "cell_type": "code",
   "execution_count": 6,
   "metadata": {},
   "outputs": [
    {
     "name": "stdout",
     "output_type": "stream",
     "text": [
      "水果  10000 (总体)，5000 (正例), 5000 (负例)\n",
      "平板  10000 (总体)，5000 (正例), 5000 (负例)\n",
      "酒店  10000 (总体)，5000 (正例), 5000 (负例)\n",
      "洗发水 10000 (总体)，5000 (正例), 5000 (负例)\n",
      "衣服  10000 (总体)，5000 (正例), 5000 (负例)\n",
      "计算机 3992 (总体)，1996 (正例), 1996 (负例)\n",
      "书籍  3851 (总体)，2100 (正例), 1751 (负例)\n",
      "手机  2323 (总体)，1165 (正例), 1158 (负例)\n",
      "蒙牛  2033 (总体)，992 (正例), 1041 (负例)\n",
      "热水器 574 (总体)，474 (正例), 100 (负例)\n"
     ]
    }
   ],
   "source": [
    "for cat in cats:\n",
    "    data_cat = data[data.cat==cat]\n",
    "    print('{:<4}{} (总体)，{} (正例), {} (负例)'.format(cat, len(data_cat), len(data_cat[data_cat.label==1]), len(data_cat[data_cat.label==0])))"
   ]
  },
  {
   "cell_type": "markdown",
   "metadata": {},
   "source": [
    "## 2. 数据预处理\n",
    "\n",
    "接下来将对此次数据做以下几个处理：\n",
    "+ 标签处理\n",
    "+ 文本处理\n",
    "+ 长度截断"
   ]
  },
  {
   "cell_type": "markdown",
   "metadata": {},
   "source": [
    "### 2.1 标签转换\n",
    "\n",
    "将文本标签转换为数值标签"
   ]
  },
  {
   "cell_type": "code",
   "execution_count": 7,
   "metadata": {},
   "outputs": [
    {
     "data": {
      "text/plain": [
       "{'书籍': 0,\n",
       " '平板': 1,\n",
       " '手机': 2,\n",
       " '水果': 3,\n",
       " '洗发水': 4,\n",
       " '热水器': 5,\n",
       " '蒙牛': 6,\n",
       " '衣服': 7,\n",
       " '计算机': 8,\n",
       " '酒店': 9}"
      ]
     },
     "metadata": {},
     "output_type": "display_data"
    },
    {
     "data": {
      "text/plain": [
       "{0: '书籍',\n",
       " 1: '平板',\n",
       " 2: '手机',\n",
       " 3: '水果',\n",
       " 4: '洗发水',\n",
       " 5: '热水器',\n",
       " 6: '蒙牛',\n",
       " 7: '衣服',\n",
       " 8: '计算机',\n",
       " 9: '酒店'}"
      ]
     },
     "metadata": {},
     "output_type": "display_data"
    }
   ],
   "source": [
    "cat_id_tuple = data['cat'].factorize()\n",
    "data['cat_id'] = cat_id_tuple[0]\n",
    "cat_to_id = {cat:i for i, cat in enumerate(cat_id_tuple[1])}\n",
    "id_to_cat = {i:cat for i, cat in enumerate(cat_id_tuple[1])}\n",
    "display(cat_to_id)\n",
    "display(id_to_cat)"
   ]
  },
  {
   "cell_type": "code",
   "execution_count": 8,
   "metadata": {},
   "outputs": [
    {
     "data": {
      "text/html": [
       "<div>\n",
       "<style scoped>\n",
       "    .dataframe tbody tr th:only-of-type {\n",
       "        vertical-align: middle;\n",
       "    }\n",
       "\n",
       "    .dataframe tbody tr th {\n",
       "        vertical-align: top;\n",
       "    }\n",
       "\n",
       "    .dataframe thead th {\n",
       "        text-align: right;\n",
       "    }\n",
       "</style>\n",
       "<table border=\"1\" class=\"dataframe\">\n",
       "  <thead>\n",
       "    <tr style=\"text-align: right;\">\n",
       "      <th></th>\n",
       "      <th>cat</th>\n",
       "      <th>label</th>\n",
       "      <th>review</th>\n",
       "      <th>cat_id</th>\n",
       "    </tr>\n",
       "  </thead>\n",
       "  <tbody>\n",
       "    <tr>\n",
       "      <th>37306</th>\n",
       "      <td>蒙牛</td>\n",
       "      <td>1</td>\n",
       "      <td>蒙牛那个点滴的广告还不错</td>\n",
       "      <td>6</td>\n",
       "    </tr>\n",
       "    <tr>\n",
       "      <th>11072</th>\n",
       "      <td>平板</td>\n",
       "      <td>0</td>\n",
       "      <td>不用说，差评！充第二次电就充不满，充一天一夜了，不能支持国产</td>\n",
       "      <td>1</td>\n",
       "    </tr>\n",
       "    <tr>\n",
       "      <th>3183</th>\n",
       "      <td>书籍</td>\n",
       "      <td>0</td>\n",
       "      <td>垃圾书，典型的伪科学，幸好是帮人带的。</td>\n",
       "      <td>0</td>\n",
       "    </tr>\n",
       "    <tr>\n",
       "      <th>62264</th>\n",
       "      <td>酒店</td>\n",
       "      <td>0</td>\n",
       "      <td>这次住的是主楼豪华房，比东苑好些。但是一走进走廊就一股烟味，抽风系统好差，空气不好。床很不好...</td>\n",
       "      <td>9</td>\n",
       "    </tr>\n",
       "    <tr>\n",
       "      <th>44671</th>\n",
       "      <td>衣服</td>\n",
       "      <td>0</td>\n",
       "      <td>版型不错，穿起来蛮舒服，就是有一点让我很讨厌，后面缝牌子的线头扎的我又痒又痛，为什么不用别的...</td>\n",
       "      <td>7</td>\n",
       "    </tr>\n",
       "    <tr>\n",
       "      <th>34053</th>\n",
       "      <td>洗发水</td>\n",
       "      <td>0</td>\n",
       "      <td>京东的用户体验越来越差，每次快递都不送货上门，需要自己去取……再也不想用京东了</td>\n",
       "      <td>4</td>\n",
       "    </tr>\n",
       "    <tr>\n",
       "      <th>49441</th>\n",
       "      <td>计算机</td>\n",
       "      <td>1</td>\n",
       "      <td>白色钢琴漆面不错，电池使用时间满意，本子的重量合适，杜比的音响很好，键盘还算比较大。</td>\n",
       "      <td>8</td>\n",
       "    </tr>\n",
       "    <tr>\n",
       "      <th>10368</th>\n",
       "      <td>平板</td>\n",
       "      <td>0</td>\n",
       "      <td>为什么没有耳机.买的时间不是有耳机</td>\n",
       "      <td>1</td>\n",
       "    </tr>\n",
       "    <tr>\n",
       "      <th>59111</th>\n",
       "      <td>酒店</td>\n",
       "      <td>0</td>\n",
       "      <td>真不知道评价怎么那么好，订了一晚，肠子都悔青了，前台是一问三不知，房间小的出奇，内部饭店不好...</td>\n",
       "      <td>9</td>\n",
       "    </tr>\n",
       "    <tr>\n",
       "      <th>25531</th>\n",
       "      <td>水果</td>\n",
       "      <td>0</td>\n",
       "      <td>太小了！！绝对从不差评，这次要插评了！</td>\n",
       "      <td>3</td>\n",
       "    </tr>\n",
       "  </tbody>\n",
       "</table>\n",
       "</div>"
      ],
      "text/plain": [
       "       cat  label                                             review  cat_id\n",
       "37306   蒙牛      1                                       蒙牛那个点滴的广告还不错       6\n",
       "11072   平板      0                     不用说，差评！充第二次电就充不满，充一天一夜了，不能支持国产       1\n",
       "3183    书籍      0                                垃圾书，典型的伪科学，幸好是帮人带的。       0\n",
       "62264   酒店      0  这次住的是主楼豪华房，比东苑好些。但是一走进走廊就一股烟味，抽风系统好差，空气不好。床很不好...       9\n",
       "44671   衣服      0  版型不错，穿起来蛮舒服，就是有一点让我很讨厌，后面缝牌子的线头扎的我又痒又痛，为什么不用别的...       7\n",
       "34053  洗发水      0            京东的用户体验越来越差，每次快递都不送货上门，需要自己去取……再也不想用京东了       4\n",
       "49441  计算机      1         白色钢琴漆面不错，电池使用时间满意，本子的重量合适，杜比的音响很好，键盘还算比较大。       8\n",
       "10368   平板      0                                  为什么没有耳机.买的时间不是有耳机       1\n",
       "59111   酒店      0  真不知道评价怎么那么好，订了一晚，肠子都悔青了，前台是一问三不知，房间小的出奇，内部饭店不好...       9\n",
       "25531   水果      0                                太小了！！绝对从不差评，这次要插评了！       3"
      ]
     },
     "execution_count": 8,
     "metadata": {},
     "output_type": "execute_result"
    }
   ],
   "source": [
    "data.sample(10)"
   ]
  },
  {
   "cell_type": "markdown",
   "metadata": {},
   "source": [
    "### 2.2 文本处理\n",
    "\n",
    "+ 定义函数*remove_punctuation*删除标点符号\n",
    "+ 利用jieba对评论进行分词\n",
    "+ 利用*stopwords.txt*对分词后的结果删除停用词"
   ]
  },
  {
   "cell_type": "code",
   "execution_count": 9,
   "metadata": {},
   "outputs": [
    {
     "data": {
      "text/html": [
       "<div>\n",
       "<style scoped>\n",
       "    .dataframe tbody tr th:only-of-type {\n",
       "        vertical-align: middle;\n",
       "    }\n",
       "\n",
       "    .dataframe tbody tr th {\n",
       "        vertical-align: top;\n",
       "    }\n",
       "\n",
       "    .dataframe thead th {\n",
       "        text-align: right;\n",
       "    }\n",
       "</style>\n",
       "<table border=\"1\" class=\"dataframe\">\n",
       "  <thead>\n",
       "    <tr style=\"text-align: right;\">\n",
       "      <th></th>\n",
       "      <th>cat</th>\n",
       "      <th>label</th>\n",
       "      <th>review</th>\n",
       "      <th>cat_id</th>\n",
       "      <th>clean_review</th>\n",
       "    </tr>\n",
       "  </thead>\n",
       "  <tbody>\n",
       "    <tr>\n",
       "      <th>11649</th>\n",
       "      <td>平板</td>\n",
       "      <td>0</td>\n",
       "      <td>只能这样给，我这才知道为什么这么多差评</td>\n",
       "      <td>1</td>\n",
       "      <td>只能这样给我这才知道为什么这么多差评</td>\n",
       "    </tr>\n",
       "    <tr>\n",
       "      <th>56576</th>\n",
       "      <td>酒店</td>\n",
       "      <td>1</td>\n",
       "      <td>早餐不错,挺丰富的.还提供免费接机服务,性价比高,交通很方便!</td>\n",
       "      <td>9</td>\n",
       "      <td>早餐不错挺丰富的还提供免费接机服务性价比高交通很方便</td>\n",
       "    </tr>\n",
       "    <tr>\n",
       "      <th>28286</th>\n",
       "      <td>洗发水</td>\n",
       "      <td>1</td>\n",
       "      <td>为什么洗发露上面什么标识和字都没有。。。难道是亻叚的吗。</td>\n",
       "      <td>4</td>\n",
       "      <td>为什么洗发露上面什么标识和字都没有难道是亻叚的吗</td>\n",
       "    </tr>\n",
       "    <tr>\n",
       "      <th>30928</th>\n",
       "      <td>洗发水</td>\n",
       "      <td>1</td>\n",
       "      <td>价钱合适，用起来可以，量很足，可以用很久</td>\n",
       "      <td>4</td>\n",
       "      <td>价钱合适用起来可以量很足可以用很久</td>\n",
       "    </tr>\n",
       "    <tr>\n",
       "      <th>40414</th>\n",
       "      <td>衣服</td>\n",
       "      <td>1</td>\n",
       "      <td>宝贝质量很好，面料舒服，大小合适，很好看，物流也很给力，不错 ，五分好评。</td>\n",
       "      <td>7</td>\n",
       "      <td>宝贝质量很好面料舒服大小合适很好看物流也很给力不错五分好评</td>\n",
       "    </tr>\n",
       "    <tr>\n",
       "      <th>14711</th>\n",
       "      <td>手机</td>\n",
       "      <td>1</td>\n",
       "      <td>1：内外双彩屏，表现力很强；2：铃声质量很好，很有穿透力；3：支持MJPEG格式的录像，效果...</td>\n",
       "      <td>2</td>\n",
       "      <td>1内外双彩屏表现力很强2铃声质量很好很有穿透力3支持MJPEG格式的录像效果不错4使用动态内...</td>\n",
       "    </tr>\n",
       "    <tr>\n",
       "      <th>43708</th>\n",
       "      <td>衣服</td>\n",
       "      <td>1</td>\n",
       "      <td>裤子很好啊，穿起来很舒服，对比过好几家才买的！男朋友可喜欢了！物流也很快，还会再来的</td>\n",
       "      <td>7</td>\n",
       "      <td>裤子很好啊穿起来很舒服对比过好几家才买的男朋友可喜欢了物流也很快还会再来的</td>\n",
       "    </tr>\n",
       "    <tr>\n",
       "      <th>48971</th>\n",
       "      <td>计算机</td>\n",
       "      <td>1</td>\n",
       "      <td>双核，三星DDR3-1066，友达LED屏，独显，满意，到手是完美屏，不错。</td>\n",
       "      <td>8</td>\n",
       "      <td>双核三星DDR31066友达LED屏独显满意到手是完美屏不错</td>\n",
       "    </tr>\n",
       "    <tr>\n",
       "      <th>8837</th>\n",
       "      <td>平板</td>\n",
       "      <td>1</td>\n",
       "      <td>平板电脑质量非常好。一点也不卡速度非常快，</td>\n",
       "      <td>1</td>\n",
       "      <td>平板电脑质量非常好一点也不卡速度非常快</td>\n",
       "    </tr>\n",
       "    <tr>\n",
       "      <th>30586</th>\n",
       "      <td>洗发水</td>\n",
       "      <td>1</td>\n",
       "      <td>东西不错，还是一样的好，第二次购买了</td>\n",
       "      <td>4</td>\n",
       "      <td>东西不错还是一样的好第二次购买了</td>\n",
       "    </tr>\n",
       "  </tbody>\n",
       "</table>\n",
       "</div>"
      ],
      "text/plain": [
       "       cat  label                                             review  cat_id  \\\n",
       "11649   平板      0                                只能这样给，我这才知道为什么这么多差评       1   \n",
       "56576   酒店      1                    早餐不错,挺丰富的.还提供免费接机服务,性价比高,交通很方便!       9   \n",
       "28286  洗发水      1                       为什么洗发露上面什么标识和字都没有。。。难道是亻叚的吗。       4   \n",
       "30928  洗发水      1                               价钱合适，用起来可以，量很足，可以用很久       4   \n",
       "40414   衣服      1              宝贝质量很好，面料舒服，大小合适，很好看，物流也很给力，不错 ，五分好评。       7   \n",
       "14711   手机      1  1：内外双彩屏，表现力很强；2：铃声质量很好，很有穿透力；3：支持MJPEG格式的录像，效果...       2   \n",
       "43708   衣服      1         裤子很好啊，穿起来很舒服，对比过好几家才买的！男朋友可喜欢了！物流也很快，还会再来的       7   \n",
       "48971  计算机      1             双核，三星DDR3-1066，友达LED屏，独显，满意，到手是完美屏，不错。       8   \n",
       "8837    平板      1                              平板电脑质量非常好。一点也不卡速度非常快，       1   \n",
       "30586  洗发水      1                                 东西不错，还是一样的好，第二次购买了       4   \n",
       "\n",
       "                                            clean_review  \n",
       "11649                                 只能这样给我这才知道为什么这么多差评  \n",
       "56576                         早餐不错挺丰富的还提供免费接机服务性价比高交通很方便  \n",
       "28286                           为什么洗发露上面什么标识和字都没有难道是亻叚的吗  \n",
       "30928                                  价钱合适用起来可以量很足可以用很久  \n",
       "40414                      宝贝质量很好面料舒服大小合适很好看物流也很给力不错五分好评  \n",
       "14711  1内外双彩屏表现力很强2铃声质量很好很有穿透力3支持MJPEG格式的录像效果不错4使用动态内...  \n",
       "43708              裤子很好啊穿起来很舒服对比过好几家才买的男朋友可喜欢了物流也很快还会再来的  \n",
       "48971                     双核三星DDR31066友达LED屏独显满意到手是完美屏不错  \n",
       "8837                                 平板电脑质量非常好一点也不卡速度非常快  \n",
       "30586                                   东西不错还是一样的好第二次购买了  "
      ]
     },
     "execution_count": 9,
     "metadata": {},
     "output_type": "execute_result"
    }
   ],
   "source": [
    "import re\n",
    "\n",
    "# 将非中文、数字、字母的单词删除（用空字符替换）\n",
    "def remove_punctuation(line):\n",
    "    line = str(line)\n",
    "    if line == '':\n",
    "        return ''\n",
    "    rule = re.compile(u\"[^a-zA-Z0-9\\u4E00-\\u9FA5]\")\n",
    "    line = rule.sub('', line)\n",
    "    return line\n",
    "\n",
    "data['clean_review'] = data['review'].apply(remove_punctuation)\n",
    "data.sample(10)"
   ]
  },
  {
   "cell_type": "code",
   "execution_count": 10,
   "metadata": {},
   "outputs": [
    {
     "data": {
      "text/plain": [
       "['$',\n",
       " '0',\n",
       " '1',\n",
       " '2',\n",
       " '3',\n",
       " '4',\n",
       " '5',\n",
       " '6',\n",
       " '7',\n",
       " '8',\n",
       " '9',\n",
       " '?',\n",
       " '_',\n",
       " '“',\n",
       " '”',\n",
       " '、',\n",
       " '。',\n",
       " '《',\n",
       " '》',\n",
       " '一']"
      ]
     },
     "execution_count": 10,
     "metadata": {},
     "output_type": "execute_result"
    }
   ],
   "source": [
    "#coding:utf-8　\n",
    "\n",
    "def stop(file):\n",
    "    stopwords = [line.strip() for line in open(file, 'r', encoding='utf-8').readlines()]\n",
    "    return stopwords\n",
    "\n",
    "stopwords = stop('./data/cn_stopwords.txt')\n",
    "stopwords[:20]"
   ]
  },
  {
   "cell_type": "code",
   "execution_count": 11,
   "metadata": {},
   "outputs": [
    {
     "name": "stderr",
     "output_type": "stream",
     "text": [
      "Building prefix dict from the default dictionary ...\n",
      "Loading model from cache C:\\Users\\cuda\\AppData\\Local\\Temp\\jieba.cache\n",
      "Loading model cost 0.515 seconds.\n",
      "Prefix dict has been built successfully.\n"
     ]
    },
    {
     "data": {
      "text/html": [
       "<div>\n",
       "<style scoped>\n",
       "    .dataframe tbody tr th:only-of-type {\n",
       "        vertical-align: middle;\n",
       "    }\n",
       "\n",
       "    .dataframe tbody tr th {\n",
       "        vertical-align: top;\n",
       "    }\n",
       "\n",
       "    .dataframe thead th {\n",
       "        text-align: right;\n",
       "    }\n",
       "</style>\n",
       "<table border=\"1\" class=\"dataframe\">\n",
       "  <thead>\n",
       "    <tr style=\"text-align: right;\">\n",
       "      <th></th>\n",
       "      <th>cat</th>\n",
       "      <th>label</th>\n",
       "      <th>review</th>\n",
       "      <th>cat_id</th>\n",
       "      <th>clean_review</th>\n",
       "      <th>cut_review</th>\n",
       "    </tr>\n",
       "  </thead>\n",
       "  <tbody>\n",
       "    <tr>\n",
       "      <th>27889</th>\n",
       "      <td>洗发水</td>\n",
       "      <td>1</td>\n",
       "      <td>不知道好不好，还没喝。。。。。。。。。。。</td>\n",
       "      <td>4</td>\n",
       "      <td>不知道好不好还没喝</td>\n",
       "      <td>知道 好不好 没 喝</td>\n",
       "    </tr>\n",
       "    <tr>\n",
       "      <th>12286</th>\n",
       "      <td>平板</td>\n",
       "      <td>0</td>\n",
       "      <td>很不满意的一次购物…虽然东西还是可以的…但是十六号的订单…二十六号才收到…</td>\n",
       "      <td>1</td>\n",
       "      <td>很不满意的一次购物虽然东西还是可以的但是十六号的订单二十六号才收到</td>\n",
       "      <td>满意 一次 购物 东西 十六号 订单 二十六 号 收到</td>\n",
       "    </tr>\n",
       "    <tr>\n",
       "      <th>14468</th>\n",
       "      <td>手机</td>\n",
       "      <td>1</td>\n",
       "      <td>操作比较直观，手写识别率比国外品牌好，音质不错</td>\n",
       "      <td>2</td>\n",
       "      <td>操作比较直观手写识别率比国外品牌好音质不错</td>\n",
       "      <td>操作 比较 直观 手写 识别率 国外品牌 音质 不错</td>\n",
       "    </tr>\n",
       "    <tr>\n",
       "      <th>30119</th>\n",
       "      <td>洗发水</td>\n",
       "      <td>1</td>\n",
       "      <td>宝贝收到了 还有很多赠品 真的感觉太超值了 上午定的货 下午就到了 京东物流就是快 感谢京东...</td>\n",
       "      <td>4</td>\n",
       "      <td>宝贝收到了还有很多赠品真的感觉太超值了上午定的货下午就到了京东物流就是快感谢京东感谢物流小哥</td>\n",
       "      <td>宝贝 收到 很多 赠品 真的 感觉 太 超值 上午 定 货 下午 京东 物流 快 感谢 京东...</td>\n",
       "    </tr>\n",
       "    <tr>\n",
       "      <th>38592</th>\n",
       "      <td>蒙牛</td>\n",
       "      <td>0</td>\n",
       "      <td>太太太恶心了。。蒙牛，去死！</td>\n",
       "      <td>6</td>\n",
       "      <td>太太太恶心了蒙牛去死</td>\n",
       "      <td>太太 太 恶心 蒙牛 死</td>\n",
       "    </tr>\n",
       "    <tr>\n",
       "      <th>44526</th>\n",
       "      <td>衣服</td>\n",
       "      <td>0</td>\n",
       "      <td>态度啥都很好，可惜就是掉色严重，扫条码也扫不出来，也不知道到底是不是真的？</td>\n",
       "      <td>7</td>\n",
       "      <td>态度啥都很好可惜就是掉色严重扫条码也扫不出来也不知道到底是不是真的</td>\n",
       "      <td>态度 可惜 掉色 严重 扫 条码 扫 知道 到底 是不是 真的</td>\n",
       "    </tr>\n",
       "    <tr>\n",
       "      <th>38360</th>\n",
       "      <td>蒙牛</td>\n",
       "      <td>0</td>\n",
       "      <td>huab 换马甲就不认识你了。听见蒙牛就想吐</td>\n",
       "      <td>6</td>\n",
       "      <td>huab换马甲就不认识你了听见蒙牛就想吐</td>\n",
       "      <td>huab 换马甲 认识 听见 蒙牛 想 吐</td>\n",
       "    </tr>\n",
       "    <tr>\n",
       "      <th>48052</th>\n",
       "      <td>衣服</td>\n",
       "      <td>0</td>\n",
       "      <td>裤腿太粗，裆太低踢不起来腿</td>\n",
       "      <td>7</td>\n",
       "      <td>裤腿太粗裆太低踢不起来腿</td>\n",
       "      <td>裤腿 太粗 裆 太 低 踢 起来 腿</td>\n",
       "    </tr>\n",
       "    <tr>\n",
       "      <th>3889</th>\n",
       "      <td>平板</td>\n",
       "      <td>1</td>\n",
       "      <td>以后若出现不可接受的大问题 会补评，毕竟安卓平板比不了苹果平板，个人不怎么喜欢苹果封闭性，大...</td>\n",
       "      <td>1</td>\n",
       "      <td>以后若出现不可接受的大问题会补评毕竟安卓平板比不了苹果平板个人不怎么喜欢苹果封闭性大家仁者见...</td>\n",
       "      <td>以后 出现 不可 接受 问题 会 补评 毕竟 安卓 平板 不了 苹果 平板 个人 不怎么 喜...</td>\n",
       "    </tr>\n",
       "    <tr>\n",
       "      <th>62735</th>\n",
       "      <td>酒店</td>\n",
       "      <td>0</td>\n",
       "      <td>除了价格实惠、地理位置还可以，其他没啥！吹风机没有，还要100押金才行！楼上也不知道哪里漏水...</td>\n",
       "      <td>9</td>\n",
       "      <td>除了价格实惠地理位置还可以其他没啥吹风机没有还要100押金才行楼上也不知道哪里漏水水声一晚上...</td>\n",
       "      <td>价格 实惠 地理位置 没 吹风机 没有 100 押金 才行 楼上 知道 漏水 水声 晚上 前...</td>\n",
       "    </tr>\n",
       "  </tbody>\n",
       "</table>\n",
       "</div>"
      ],
      "text/plain": [
       "       cat  label                                             review  cat_id  \\\n",
       "27889  洗发水      1                              不知道好不好，还没喝。。。。。。。。。。。       4   \n",
       "12286   平板      0              很不满意的一次购物…虽然东西还是可以的…但是十六号的订单…二十六号才收到…       1   \n",
       "14468   手机      1                            操作比较直观，手写识别率比国外品牌好，音质不错       2   \n",
       "30119  洗发水      1  宝贝收到了 还有很多赠品 真的感觉太超值了 上午定的货 下午就到了 京东物流就是快 感谢京东...       4   \n",
       "38592   蒙牛      0                                     太太太恶心了。。蒙牛，去死！       6   \n",
       "44526   衣服      0              态度啥都很好，可惜就是掉色严重，扫条码也扫不出来，也不知道到底是不是真的？       7   \n",
       "38360   蒙牛      0                             huab 换马甲就不认识你了。听见蒙牛就想吐       6   \n",
       "48052   衣服      0                                      裤腿太粗，裆太低踢不起来腿       7   \n",
       "3889    平板      1  以后若出现不可接受的大问题 会补评，毕竟安卓平板比不了苹果平板，个人不怎么喜欢苹果封闭性，大...       1   \n",
       "62735   酒店      0  除了价格实惠、地理位置还可以，其他没啥！吹风机没有，还要100押金才行！楼上也不知道哪里漏水...       9   \n",
       "\n",
       "                                            clean_review  \\\n",
       "27889                                          不知道好不好还没喝   \n",
       "12286                  很不满意的一次购物虽然东西还是可以的但是十六号的订单二十六号才收到   \n",
       "14468                              操作比较直观手写识别率比国外品牌好音质不错   \n",
       "30119     宝贝收到了还有很多赠品真的感觉太超值了上午定的货下午就到了京东物流就是快感谢京东感谢物流小哥   \n",
       "38592                                         太太太恶心了蒙牛去死   \n",
       "44526                  态度啥都很好可惜就是掉色严重扫条码也扫不出来也不知道到底是不是真的   \n",
       "38360                               huab换马甲就不认识你了听见蒙牛就想吐   \n",
       "48052                                       裤腿太粗裆太低踢不起来腿   \n",
       "3889   以后若出现不可接受的大问题会补评毕竟安卓平板比不了苹果平板个人不怎么喜欢苹果封闭性大家仁者见...   \n",
       "62735  除了价格实惠地理位置还可以其他没啥吹风机没有还要100押金才行楼上也不知道哪里漏水水声一晚上...   \n",
       "\n",
       "                                              cut_review  \n",
       "27889                                         知道 好不好 没 喝  \n",
       "12286                        满意 一次 购物 东西 十六号 订单 二十六 号 收到  \n",
       "14468                         操作 比较 直观 手写 识别率 国外品牌 音质 不错  \n",
       "30119  宝贝 收到 很多 赠品 真的 感觉 太 超值 上午 定 货 下午 京东 物流 快 感谢 京东...  \n",
       "38592                                       太太 太 恶心 蒙牛 死  \n",
       "44526                    态度 可惜 掉色 严重 扫 条码 扫 知道 到底 是不是 真的  \n",
       "38360                              huab 换马甲 认识 听见 蒙牛 想 吐  \n",
       "48052                                 裤腿 太粗 裆 太 低 踢 起来 腿  \n",
       "3889   以后 出现 不可 接受 问题 会 补评 毕竟 安卓 平板 不了 苹果 平板 个人 不怎么 喜...  \n",
       "62735  价格 实惠 地理位置 没 吹风机 没有 100 押金 才行 楼上 知道 漏水 水声 晚上 前...  "
      ]
     },
     "execution_count": 11,
     "metadata": {},
     "output_type": "execute_result"
    }
   ],
   "source": [
    "import jieba as jb\n",
    "\n",
    "data['cut_review'] = data['clean_review'].apply(lambda line: \" \".join([w for w in jb.lcut(line) if w not in stopwords]))\n",
    "data.sample(10)"
   ]
  },
  {
   "cell_type": "markdown",
   "metadata": {},
   "source": [
    "## 3. LSTM建模\n",
    "\n",
    "接下来进行LSTM建模，主要包括以下步骤\n",
    "+ 评论文本截断\n",
    "+ 模型搭建\n",
    "+ 模型训练与评估"
   ]
  },
  {
   "cell_type": "markdown",
   "metadata": {},
   "source": [
    "### 3.1 文本截断\n",
    "\n",
    "设置评论最大长度、词典大小、词向量维度"
   ]
  },
  {
   "cell_type": "code",
   "execution_count": 12,
   "metadata": {},
   "outputs": [],
   "source": [
    "from tensorflow.keras.preprocessing.text import Tokenizer\n",
    "from tensorflow.keras.preprocessing.sequence import pad_sequences"
   ]
  },
  {
   "cell_type": "code",
   "execution_count": 13,
   "metadata": {},
   "outputs": [],
   "source": [
    "max_len = 100\n",
    "max_word_num = 50000\n",
    "embed_dim = 250"
   ]
  },
  {
   "cell_type": "code",
   "execution_count": 14,
   "metadata": {},
   "outputs": [],
   "source": [
    "tokenizer = Tokenizer(num_words=max_word_num)\n",
    "tokenizer.fit_on_texts(data['cut_review'].values)"
   ]
  },
  {
   "cell_type": "code",
   "execution_count": 15,
   "metadata": {},
   "outputs": [],
   "source": [
    "x = tokenizer.texts_to_sequences(data['cut_review'].values)\n",
    "x = pad_sequences(x, maxlen=max_len, padding='pre', truncating='post')\n",
    "\n",
    "y = pd.get_dummies(data['cat_id'].values)"
   ]
  },
  {
   "cell_type": "code",
   "execution_count": 16,
   "metadata": {},
   "outputs": [
    {
     "name": "stdout",
     "output_type": "stream",
     "text": [
      "(62773, 100)\n",
      "(62773, 10)\n"
     ]
    }
   ],
   "source": [
    "print(x.shape)\n",
    "print(y.shape)"
   ]
  },
  {
   "cell_type": "code",
   "execution_count": 17,
   "metadata": {},
   "outputs": [
    {
     "name": "stdout",
     "output_type": "stream",
     "text": [
      "(56495, 100) (56495, 10)\n"
     ]
    }
   ],
   "source": [
    "from sklearn.model_selection import train_test_split as tts\n",
    "\n",
    "x_train, x_test, y_train, y_test = tts(x, y, test_size=0.1)\n",
    "print(x_train.shape, y_train.shape)"
   ]
  },
  {
   "cell_type": "markdown",
   "metadata": {},
   "source": [
    "### 3.2 模型构建"
   ]
  },
  {
   "cell_type": "code",
   "execution_count": 18,
   "metadata": {},
   "outputs": [
    {
     "data": {
      "text/plain": [
       "True"
      ]
     },
     "execution_count": 18,
     "metadata": {},
     "output_type": "execute_result"
    }
   ],
   "source": [
    "from tensorflow.keras.layers import LSTM, SpatialDropout1D, Dense, Embedding, InputLayer\n",
    "from tensorflow.keras import Sequential\n",
    "\n",
    "import tensorflow as tf\n",
    "tf.test.is_built_with_gpu_support()"
   ]
  },
  {
   "cell_type": "code",
   "execution_count": 19,
   "metadata": {},
   "outputs": [
    {
     "name": "stdout",
     "output_type": "stream",
     "text": [
      "WARNING:tensorflow:Layer lstm will not use cuDNN kernel since it doesn't meet the cuDNN kernel criteria. It will use generic GPU kernel as fallback when running on GPU\n",
      "Model: \"sequential\"\n",
      "_________________________________________________________________\n",
      "Layer (type)                 Output Shape              Param #   \n",
      "=================================================================\n",
      "embedding (Embedding)        (None, 100, 250)          12500000  \n",
      "_________________________________________________________________\n",
      "spatial_dropout1d (SpatialDr (None, 100, 250)          0         \n",
      "_________________________________________________________________\n",
      "lstm (LSTM)                  (None, 100)               140400    \n",
      "_________________________________________________________________\n",
      "dense (Dense)                (None, 10)                1010      \n",
      "=================================================================\n",
      "Total params: 12,641,410\n",
      "Trainable params: 12,641,410\n",
      "Non-trainable params: 0\n",
      "_________________________________________________________________\n"
     ]
    }
   ],
   "source": [
    "model = Sequential([\n",
    "#     InputLayer(input_length=x.shape[1]),\n",
    "    Embedding(input_dim=max_word_num, output_dim=embed_dim, input_length=x.shape[1]),\n",
    "    SpatialDropout1D(0.2),\n",
    "    LSTM(units=100, dropout=0.2, recurrent_dropout=0.2),\n",
    "    Dense(10, activation='softmax')\n",
    "])\n",
    "\n",
    "model.summary()"
   ]
  },
  {
   "cell_type": "code",
   "execution_count": 20,
   "metadata": {},
   "outputs": [
    {
     "name": "stdout",
     "output_type": "stream",
     "text": [
      "Epoch 1/8\n",
      "707/707 [==============================] - 294s 415ms/step - loss: 0.6830 - acc: 0.7722 - val_loss: 0.3934 - val_acc: 0.8637\n",
      "Epoch 2/8\n",
      "707/707 [==============================] - 296s 419ms/step - loss: 0.3153 - acc: 0.8933 - val_loss: 0.3313 - val_acc: 0.8857\n",
      "Epoch 3/8\n",
      "707/707 [==============================] - 293s 414ms/step - loss: 0.2585 - acc: 0.9129 - val_loss: 0.3154 - val_acc: 0.8918\n",
      "Epoch 4/8\n",
      "707/707 [==============================] - 296s 418ms/step - loss: 0.2287 - acc: 0.9226 - val_loss: 0.3206 - val_acc: 0.8915\n",
      "Epoch 5/8\n",
      "707/707 [==============================] - 294s 416ms/step - loss: 0.2048 - acc: 0.9308 - val_loss: 0.3091 - val_acc: 0.8987\n",
      "Epoch 6/8\n",
      "707/707 [==============================] - 294s 416ms/step - loss: 0.1877 - acc: 0.9366 - val_loss: 0.3078 - val_acc: 0.8970\n",
      "Epoch 7/8\n",
      "707/707 [==============================] - 292s 413ms/step - loss: 0.1731 - acc: 0.9407 - val_loss: 0.3200 - val_acc: 0.8960\n",
      "Epoch 8/8\n",
      "707/707 [==============================] - 292s 413ms/step - loss: 0.1587 - acc: 0.9451 - val_loss: 0.3214 - val_acc: 0.8984\n",
      "Processing time:  2358.334657907486\n"
     ]
    }
   ],
   "source": [
    "from time import time\n",
    "\n",
    "epochs = 8\n",
    "batch_size = 64\n",
    "t0 = time()\n",
    "model.compile(loss='categorical_crossentropy', optimizer='rmsprop', metrics=['acc'])\n",
    "history = model.fit(x_train, y_train, epochs=epochs, batch_size=batch_size, validation_split=0.2)\n",
    "print('Processing time: ', time()-t0)"
   ]
  },
  {
   "cell_type": "code",
   "execution_count": 21,
   "metadata": {},
   "outputs": [],
   "source": [
    "model.save('./models/lstm_shopping.h5')"
   ]
  },
  {
   "cell_type": "code",
   "execution_count": 22,
   "metadata": {},
   "outputs": [],
   "source": [
    "def plot_acc(history):\n",
    "    train_acc = history['acc']\n",
    "    dev_acc = history['val_acc']\n",
    "    train_loss = history['loss']\n",
    "    dev_loss = history['val_loss']\n",
    "    x = range(len(train_acc))\n",
    "    plt.figure(figsize=(10,6))\n",
    "    plt.plot(x, train_acc, 'b', label='Train Accuracy')\n",
    "    plt.plot(x, dev_acc, 'r', label='Valid Accuracy')\n",
    "    plt.title('Accuracy')\n",
    "    plt.xlabel('Epochs')\n",
    "    plt.ylabel('Accuracy')\n",
    "    plt.grid()\n",
    "    plt.legend()\n",
    "    plt.show()"
   ]
  },
  {
   "cell_type": "code",
   "execution_count": 23,
   "metadata": {},
   "outputs": [
    {
     "data": {
      "image/png": "[encoded data removed]",
      "text/plain": [
       "<Figure size 720x432 with 1 Axes>"
      ]
     },
     "metadata": {
      "needs_background": "light"
     },
     "output_type": "display_data"
    }
   ],
   "source": [
    "plot_acc(history.history)"
   ]
  }
 ],
 "metadata": {
  "kernelspec": {
   "display_name": "Python 3",
   "language": "python",
   "name": "python3"
  },
  "language_info": {
   "codemirror_mode": {
    "name": "ipython",
    "version": 3
   },
   "file_extension": ".py",
   "mimetype": "text/x-python",
   "name": "python",
   "nbconvert_exporter": "python",
   "pygments_lexer": "ipython3",
   "version": "3.6.4"
  }
 },
 "nbformat": 4,
 "nbformat_minor": 4
}
